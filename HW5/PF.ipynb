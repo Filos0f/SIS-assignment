{
 "cells": [
  {
   "cell_type": "code",
   "execution_count": 1,
   "metadata": {},
   "outputs": [],
   "source": [
    "from numpy.random import uniform\n",
    "import numpy as np\n",
    "\n",
    "def create_uniform_particles(x_range, y_range, hdg_range, N):\n",
    "    particles = np.empty((N, 3))\n",
    "    particles[:, 0] = uniform(x_range[0], x_range[1], size=N)\n",
    "    particles[:, 1] = uniform(y_range[0], y_range[1], size=N)\n",
    "    particles[:, 2] = uniform(hdg_range[0], hdg_range[1], size=N)\n",
    "    particles[:, 2] %= 2 * np.pi\n",
    "    return particles\n",
    "\n",
    "def create_gaussian_particles(mean, std, N):\n",
    "    particles = np.empty((N, 3))\n",
    "    particles[:, 0] = mean[0] + (randn(N) * std[0])\n",
    "    particles[:, 1] = mean[1] + (randn(N) * std[1])\n",
    "    particles[:, 2] = mean[2] + (randn(N) * std[2])\n",
    "    particles[:, 2] %= 2 * np.pi\n",
    "    return particles"
   ]
  },
  {
   "cell_type": "code",
   "execution_count": 2,
   "metadata": {},
   "outputs": [
    {
     "data": {
      "text/plain": [
       "array([[ 0.65086582,  0.01715191,  2.55717859],\n",
       "       [ 0.91164732,  0.02906397,  3.53300981],\n",
       "       [ 0.64723504,  0.32619162,  5.58190042],\n",
       "       [ 0.36118147,  0.43740663,  1.39610574]])"
      ]
     },
     "execution_count": 2,
     "metadata": {},
     "output_type": "execute_result"
    }
   ],
   "source": [
    "create_uniform_particles((0,1), (0,1), (0, np.pi*2), 4)"
   ]
  },
  {
   "cell_type": "code",
   "execution_count": 3,
   "metadata": {
    "collapsed": true
   },
   "outputs": [],
   "source": [
    "def predict(particles, u, std, dt=1.):\n",
    "    \"\"\" move according to control input u (heading change, velocity)\n",
    "    with noise Q (std heading change, std velocity)`\"\"\"\n",
    "\n",
    "    N = len(particles)\n",
    "    # update heading\n",
    "    particles[:, 2] += u[0] + (randn(N) * std[0])\n",
    "    particles[:, 2] %= 2 * np.pi\n",
    "\n",
    "    # move in the (noisy) commanded direction\n",
    "    dist = (u[1] * dt) + (randn(N) * std[1])\n",
    "    particles[:, 0] += np.cos(particles[:, 2]) * dist\n",
    "    particles[:, 1] += np.sin(particles[:, 2]) * dist"
   ]
  },
  {
   "cell_type": "code",
   "execution_count": 4,
   "metadata": {
    "collapsed": true
   },
   "outputs": [],
   "source": [
    "def update(particles, weights, z, R, landmarks):\n",
    "    weights.fill(1.)\n",
    "    for i, landmark in enumerate(landmarks):\n",
    "        distance = np.linalg.norm(particles[:, 0:2] - landmark, axis=1)\n",
    "        weights *= scipy.stats.norm(distance, R).pdf(z[i])\n",
    "\n",
    "    weights += 1.e-300      # avoid round-off to zero\n",
    "    weights /= sum(weights) # normalize"
   ]
  },
  {
   "cell_type": "code",
   "execution_count": 5,
   "metadata": {
    "collapsed": true
   },
   "outputs": [],
   "source": [
    "def estimate(particles, weights):\n",
    "    \"\"\"returns mean and variance of the weighted particles\"\"\"\n",
    "\n",
    "    pos = particles[:, 0:2]\n",
    "    mean = np.average(pos, weights=weights, axis=0)\n",
    "    var  = np.average((pos - mean)**2, weights=weights, axis=0)\n",
    "    return mean, var"
   ]
  },
  {
   "cell_type": "code",
   "execution_count": 6,
   "metadata": {},
   "outputs": [
    {
     "data": {
      "text/plain": [
       "(array([ 0.49747965,  0.50161154]), array([ 0.08201118,  0.08406512]))"
      ]
     },
     "execution_count": 6,
     "metadata": {},
     "output_type": "execute_result"
    }
   ],
   "source": [
    "particles = create_uniform_particles((0,1), (0,1), (0, 5), 1000)\n",
    "weights = np.array([.25]*1000)\n",
    "estimate(particles, weights)"
   ]
  },
  {
   "cell_type": "code",
   "execution_count": null,
   "metadata": {
    "collapsed": true
   },
   "outputs": [],
   "source": []
  }
 ],
 "metadata": {
  "kernelspec": {
   "display_name": "Python 3",
   "language": "python",
   "name": "python3"
  },
  "language_info": {
   "codemirror_mode": {
    "name": "ipython",
    "version": 3
   },
   "file_extension": ".py",
   "mimetype": "text/x-python",
   "name": "python",
   "nbconvert_exporter": "python",
   "pygments_lexer": "ipython3",
   "version": "3.6.1"
  }
 },
 "nbformat": 4,
 "nbformat_minor": 2
}
